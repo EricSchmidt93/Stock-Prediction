{
 "cells": [
  {
   "cell_type": "markdown",
   "metadata": {},
   "source": [
    "## Imports and Variables"
   ]
  },
  {
   "cell_type": "code",
   "execution_count": 551,
   "metadata": {
    "collapsed": false
   },
   "outputs": [],
   "source": [
    "import csv\n",
    "import numpy as np\n",
    "\n",
    "from sklearn.svm import SVR\n",
    "from sklearn.model_selection import train_test_split\n",
    "from datetime import datetime\n",
    "import datetime as dt\n",
    "\n",
    "import matplotlib.pylab as plt\n",
    "import matplotlib\n",
    "\n",
    "from pandas import DataFrame\n",
    "\n",
    "%matplotlib inline"
   ]
  },
  {
   "cell_type": "code",
   "execution_count": 596,
   "metadata": {
    "collapsed": true
   },
   "outputs": [],
   "source": [
    "window_size = 5\n",
    "used_params = 4\n",
    "\n",
    "close_value = 0\n",
    "open_value = 1\n",
    "high_value = 2\n",
    "low_value = 3"
   ]
  },
  {
   "cell_type": "markdown",
   "metadata": {},
   "source": [
    "## Read data and Preprocessing\n",
    "\n",
    "Read in the historic stock data of MSFT (Microsoft) of the last 10 years.\n",
    "Treat header and data seperated"
   ]
  },
  {
   "cell_type": "code",
   "execution_count": 553,
   "metadata": {
    "collapsed": false
   },
   "outputs": [
    {
     "name": "stdout",
     "output_type": "stream",
     "text": [
      "Could not convert date: skip\n",
      "Could not convert 11:41: skip\n",
      "Loose latest entry: ['11:41', '60.03', '60.43', '60.46', '59.80']\n"
     ]
    }
   ],
   "source": [
    "data = []\n",
    "header = []\n",
    "\n",
    "with open('data/HistoricalQuotes.csv', 'r') as csvfile:\n",
    "    spamreader = csv.reader(csvfile, delimiter=',')\n",
    "    for row in spamreader:       \n",
    "        try:\n",
    "            row[0] = datetime.strptime(row[0], '%Y/%m/%d')\n",
    "        except:\n",
    "            print ('Could not convert ' + row[0] + ': skip')\n",
    "        row.pop(2) #Remove Volume value since it dramatically affects the score\n",
    "        data.append(row)\n",
    "        \n",
    "header.append(data.pop(0))\n",
    "\n",
    "print('Loose latest entry: ' + str(data.pop(0)))"
   ]
  },
  {
   "cell_type": "code",
   "execution_count": 554,
   "metadata": {
    "collapsed": false,
    "scrolled": true
   },
   "outputs": [
    {
     "data": {
      "text/html": [
       "<div>\n",
       "<table border=\"1\" class=\"dataframe\">\n",
       "  <thead>\n",
       "    <tr style=\"text-align: right;\">\n",
       "      <th></th>\n",
       "      <th>date</th>\n",
       "      <th>close</th>\n",
       "      <th>open</th>\n",
       "      <th>high</th>\n",
       "      <th>low</th>\n",
       "    </tr>\n",
       "  </thead>\n",
       "  <tbody>\n",
       "    <tr>\n",
       "      <th>0</th>\n",
       "      <td>2016-12-05</td>\n",
       "      <td>60.2200</td>\n",
       "      <td>59.7000</td>\n",
       "      <td>60.5850</td>\n",
       "      <td>59.5600</td>\n",
       "    </tr>\n",
       "    <tr>\n",
       "      <th>1</th>\n",
       "      <td>2016-12-02</td>\n",
       "      <td>59.2500</td>\n",
       "      <td>59.0800</td>\n",
       "      <td>59.4700</td>\n",
       "      <td>58.8000</td>\n",
       "    </tr>\n",
       "    <tr>\n",
       "      <th>2</th>\n",
       "      <td>2016-12-01</td>\n",
       "      <td>59.2000</td>\n",
       "      <td>60.1100</td>\n",
       "      <td>60.1500</td>\n",
       "      <td>58.9350</td>\n",
       "    </tr>\n",
       "    <tr>\n",
       "      <th>3</th>\n",
       "      <td>2016-11-30</td>\n",
       "      <td>60.2600</td>\n",
       "      <td>60.8600</td>\n",
       "      <td>61.1800</td>\n",
       "      <td>60.2150</td>\n",
       "    </tr>\n",
       "    <tr>\n",
       "      <th>4</th>\n",
       "      <td>2016-11-29</td>\n",
       "      <td>61.0900</td>\n",
       "      <td>60.6500</td>\n",
       "      <td>61.4100</td>\n",
       "      <td>60.5200</td>\n",
       "    </tr>\n",
       "    <tr>\n",
       "      <th>5</th>\n",
       "      <td>2016-11-28</td>\n",
       "      <td>60.6100</td>\n",
       "      <td>60.3400</td>\n",
       "      <td>61.0200</td>\n",
       "      <td>60.2100</td>\n",
       "    </tr>\n",
       "    <tr>\n",
       "      <th>6</th>\n",
       "      <td>2016-11-25</td>\n",
       "      <td>60.5300</td>\n",
       "      <td>60.3000</td>\n",
       "      <td>60.5300</td>\n",
       "      <td>60.1300</td>\n",
       "    </tr>\n",
       "    <tr>\n",
       "      <th>7</th>\n",
       "      <td>2016-11-23</td>\n",
       "      <td>60.4000</td>\n",
       "      <td>61.0100</td>\n",
       "      <td>61.1000</td>\n",
       "      <td>60.2500</td>\n",
       "    </tr>\n",
       "    <tr>\n",
       "      <th>8</th>\n",
       "      <td>2016-11-22</td>\n",
       "      <td>61.1200</td>\n",
       "      <td>60.9800</td>\n",
       "      <td>61.2600</td>\n",
       "      <td>60.8050</td>\n",
       "    </tr>\n",
       "    <tr>\n",
       "      <th>9</th>\n",
       "      <td>2016-11-21</td>\n",
       "      <td>60.8600</td>\n",
       "      <td>60.5000</td>\n",
       "      <td>60.9700</td>\n",
       "      <td>60.4200</td>\n",
       "    </tr>\n",
       "  </tbody>\n",
       "</table>\n",
       "</div>"
      ],
      "text/plain": [
       "        date    close     open     high      low\n",
       "0 2016-12-05  60.2200  59.7000  60.5850  59.5600\n",
       "1 2016-12-02  59.2500  59.0800  59.4700  58.8000\n",
       "2 2016-12-01  59.2000  60.1100  60.1500  58.9350\n",
       "3 2016-11-30  60.2600  60.8600  61.1800  60.2150\n",
       "4 2016-11-29  61.0900  60.6500  61.4100  60.5200\n",
       "5 2016-11-28  60.6100  60.3400  61.0200  60.2100\n",
       "6 2016-11-25  60.5300  60.3000  60.5300  60.1300\n",
       "7 2016-11-23  60.4000  61.0100  61.1000  60.2500\n",
       "8 2016-11-22  61.1200  60.9800  61.2600  60.8050\n",
       "9 2016-11-21  60.8600  60.5000  60.9700  60.4200"
      ]
     },
     "execution_count": 554,
     "metadata": {},
     "output_type": "execute_result"
    }
   ],
   "source": [
    "DataFrame(data, columns = header[0])[0:10]"
   ]
  },
  {
   "cell_type": "markdown",
   "metadata": {},
   "source": [
    "## Create Timeline\n",
    "\n",
    "Function to build a timeline using a given window"
   ]
  },
  {
   "cell_type": "code",
   "execution_count": 555,
   "metadata": {
    "collapsed": true
   },
   "outputs": [],
   "source": [
    "def buid_timeline_data(data, window):\n",
    "    timeline = []\n",
    "    labels = []\n",
    "    \n",
    "    timeline_wd = []\n",
    "    labels_wd = []\n",
    "    \n",
    "    timeline_element = []\n",
    "    current_window = 0\n",
    "    \n",
    "    reverse_data = list(reversed(data))\n",
    "    reverse_data.pop(len(reverse_data)-1) # Delete the last day due to different format\n",
    "    \n",
    "    for i in range(len(reverse_data)):       \n",
    "        if(i+window+1 < len(reverse_data)): \n",
    "            timeline_element, label, timeline_element_wd, label_wd = get_timeline_data(reverse_data, window, i)\n",
    "            \n",
    "            timeline.append(timeline_element)\n",
    "            timeline_wd.append(timeline_element_wd)\n",
    "            labels.append(label)\n",
    "            labels_wd.append(label_wd)\n",
    "            \n",
    "    return timeline, labels, timeline_wd, labels_wd"
   ]
  },
  {
   "cell_type": "code",
   "execution_count": 556,
   "metadata": {
    "collapsed": true
   },
   "outputs": [],
   "source": [
    "def get_timeline_data(data, window, current_index):   \n",
    "    timeline_element = []\n",
    "    timeline_element_wd = []\n",
    "    \n",
    "    #Get the Data for each stock day\n",
    "    for i in range(window):  \n",
    "        timeline_element += data[current_index+i][1:]\n",
    "        timeline_element_wd += data[current_index+i]\n",
    "    \n",
    "    label = data[current_index+window][1:]\n",
    "    label_wd = data[current_index+window]\n",
    "    \n",
    "    return timeline_element, label, timeline_element_wd, label_wd"
   ]
  },
  {
   "cell_type": "code",
   "execution_count": 557,
   "metadata": {
    "collapsed": false
   },
   "outputs": [
    {
     "name": "stdout",
     "output_type": "stream",
     "text": [
      "Shape of Timeline: (2511, 20)\n",
      "Shape of Labels: (2511, 4)\n"
     ]
    }
   ],
   "source": [
    "timeline, labels, timeline_wd, labels_wd = buid_timeline_data(data, window_size)\n",
    "\n",
    "#Data without date\n",
    "timeline = np.array(timeline).astype(float) \n",
    "labels = np.array(labels).astype(float)\n",
    "#Data with date\n",
    "timeline_wd = np.array(timeline_wd)\n",
    "labels_wd = np.array(labels_wd)\n",
    "\n",
    "print('Shape of Timeline: ' + str(timeline.shape))\n",
    "print('Shape of Labels: ' + str(labels.shape))"
   ]
  },
  {
   "cell_type": "code",
   "execution_count": 558,
   "metadata": {
    "collapsed": false
   },
   "outputs": [
    {
     "data": {
      "text/html": [
       "<div>\n",
       "<table border=\"1\" class=\"dataframe\">\n",
       "  <thead>\n",
       "    <tr style=\"text-align: right;\">\n",
       "      <th></th>\n",
       "      <th>date</th>\n",
       "      <th>close</th>\n",
       "      <th>open</th>\n",
       "      <th>high</th>\n",
       "      <th>low</th>\n",
       "      <th>date</th>\n",
       "      <th>close</th>\n",
       "      <th>open</th>\n",
       "      <th>high</th>\n",
       "      <th>low</th>\n",
       "      <th>...</th>\n",
       "      <th>date</th>\n",
       "      <th>close</th>\n",
       "      <th>open</th>\n",
       "      <th>high</th>\n",
       "      <th>low</th>\n",
       "      <th>date</th>\n",
       "      <th>close</th>\n",
       "      <th>open</th>\n",
       "      <th>high</th>\n",
       "      <th>low</th>\n",
       "    </tr>\n",
       "  </thead>\n",
       "  <tbody>\n",
       "    <tr>\n",
       "      <th>0</th>\n",
       "      <td>2006-12-05 00:00:00</td>\n",
       "      <td>29.1300</td>\n",
       "      <td>29.3600</td>\n",
       "      <td>29.4000</td>\n",
       "      <td>29.0300</td>\n",
       "      <td>2006-12-06 00:00:00</td>\n",
       "      <td>28.9900</td>\n",
       "      <td>29.0950</td>\n",
       "      <td>29.1300</td>\n",
       "      <td>28.8700</td>\n",
       "      <td>...</td>\n",
       "      <td>2006-12-08 00:00:00</td>\n",
       "      <td>29.4000</td>\n",
       "      <td>28.8200</td>\n",
       "      <td>29.4000</td>\n",
       "      <td>28.8000</td>\n",
       "      <td>2006-12-11 00:00:00</td>\n",
       "      <td>29.5400</td>\n",
       "      <td>29.1850</td>\n",
       "      <td>29.7500</td>\n",
       "      <td>29.1100</td>\n",
       "    </tr>\n",
       "    <tr>\n",
       "      <th>1</th>\n",
       "      <td>2006-12-06 00:00:00</td>\n",
       "      <td>28.9900</td>\n",
       "      <td>29.0950</td>\n",
       "      <td>29.1300</td>\n",
       "      <td>28.8700</td>\n",
       "      <td>2006-12-07 00:00:00</td>\n",
       "      <td>28.8500</td>\n",
       "      <td>28.9600</td>\n",
       "      <td>29.0700</td>\n",
       "      <td>28.8100</td>\n",
       "      <td>...</td>\n",
       "      <td>2006-12-11 00:00:00</td>\n",
       "      <td>29.5400</td>\n",
       "      <td>29.1850</td>\n",
       "      <td>29.7500</td>\n",
       "      <td>29.1100</td>\n",
       "      <td>2006-12-12 00:00:00</td>\n",
       "      <td>29.4300</td>\n",
       "      <td>29.5200</td>\n",
       "      <td>29.6300</td>\n",
       "      <td>29.2200</td>\n",
       "    </tr>\n",
       "    <tr>\n",
       "      <th>2</th>\n",
       "      <td>2006-12-07 00:00:00</td>\n",
       "      <td>28.8500</td>\n",
       "      <td>28.9600</td>\n",
       "      <td>29.0700</td>\n",
       "      <td>28.8100</td>\n",
       "      <td>2006-12-08 00:00:00</td>\n",
       "      <td>29.4000</td>\n",
       "      <td>28.8200</td>\n",
       "      <td>29.4000</td>\n",
       "      <td>28.8000</td>\n",
       "      <td>...</td>\n",
       "      <td>2006-12-12 00:00:00</td>\n",
       "      <td>29.4300</td>\n",
       "      <td>29.5200</td>\n",
       "      <td>29.6300</td>\n",
       "      <td>29.2200</td>\n",
       "      <td>2006-12-13 00:00:00</td>\n",
       "      <td>29.5500</td>\n",
       "      <td>29.6000</td>\n",
       "      <td>29.6000</td>\n",
       "      <td>29.3200</td>\n",
       "    </tr>\n",
       "    <tr>\n",
       "      <th>3</th>\n",
       "      <td>2006-12-08 00:00:00</td>\n",
       "      <td>29.4000</td>\n",
       "      <td>28.8200</td>\n",
       "      <td>29.4000</td>\n",
       "      <td>28.8000</td>\n",
       "      <td>2006-12-11 00:00:00</td>\n",
       "      <td>29.5400</td>\n",
       "      <td>29.1850</td>\n",
       "      <td>29.7500</td>\n",
       "      <td>29.1100</td>\n",
       "      <td>...</td>\n",
       "      <td>2006-12-13 00:00:00</td>\n",
       "      <td>29.5500</td>\n",
       "      <td>29.6000</td>\n",
       "      <td>29.6000</td>\n",
       "      <td>29.3200</td>\n",
       "      <td>2006-12-14 00:00:00</td>\n",
       "      <td>30.0700</td>\n",
       "      <td>29.5450</td>\n",
       "      <td>30.0801</td>\n",
       "      <td>29.5200</td>\n",
       "    </tr>\n",
       "    <tr>\n",
       "      <th>4</th>\n",
       "      <td>2006-12-11 00:00:00</td>\n",
       "      <td>29.5400</td>\n",
       "      <td>29.1850</td>\n",
       "      <td>29.7500</td>\n",
       "      <td>29.1100</td>\n",
       "      <td>2006-12-12 00:00:00</td>\n",
       "      <td>29.4300</td>\n",
       "      <td>29.5200</td>\n",
       "      <td>29.6300</td>\n",
       "      <td>29.2200</td>\n",
       "      <td>...</td>\n",
       "      <td>2006-12-14 00:00:00</td>\n",
       "      <td>30.0700</td>\n",
       "      <td>29.5450</td>\n",
       "      <td>30.0801</td>\n",
       "      <td>29.5200</td>\n",
       "      <td>2006-12-15 00:00:00</td>\n",
       "      <td>30.1900</td>\n",
       "      <td>30.1450</td>\n",
       "      <td>30.2300</td>\n",
       "      <td>30.0300</td>\n",
       "    </tr>\n",
       "  </tbody>\n",
       "</table>\n",
       "<p>5 rows × 25 columns</p>\n",
       "</div>"
      ],
      "text/plain": [
       "                  date    close     open     high      low  \\\n",
       "0  2006-12-05 00:00:00  29.1300  29.3600  29.4000  29.0300   \n",
       "1  2006-12-06 00:00:00  28.9900  29.0950  29.1300  28.8700   \n",
       "2  2006-12-07 00:00:00  28.8500  28.9600  29.0700  28.8100   \n",
       "3  2006-12-08 00:00:00  29.4000  28.8200  29.4000  28.8000   \n",
       "4  2006-12-11 00:00:00  29.5400  29.1850  29.7500  29.1100   \n",
       "\n",
       "                  date    close     open     high      low   ...     \\\n",
       "0  2006-12-06 00:00:00  28.9900  29.0950  29.1300  28.8700   ...      \n",
       "1  2006-12-07 00:00:00  28.8500  28.9600  29.0700  28.8100   ...      \n",
       "2  2006-12-08 00:00:00  29.4000  28.8200  29.4000  28.8000   ...      \n",
       "3  2006-12-11 00:00:00  29.5400  29.1850  29.7500  29.1100   ...      \n",
       "4  2006-12-12 00:00:00  29.4300  29.5200  29.6300  29.2200   ...      \n",
       "\n",
       "                  date    close     open     high      low  \\\n",
       "0  2006-12-08 00:00:00  29.4000  28.8200  29.4000  28.8000   \n",
       "1  2006-12-11 00:00:00  29.5400  29.1850  29.7500  29.1100   \n",
       "2  2006-12-12 00:00:00  29.4300  29.5200  29.6300  29.2200   \n",
       "3  2006-12-13 00:00:00  29.5500  29.6000  29.6000  29.3200   \n",
       "4  2006-12-14 00:00:00  30.0700  29.5450  30.0801  29.5200   \n",
       "\n",
       "                  date    close     open     high      low  \n",
       "0  2006-12-11 00:00:00  29.5400  29.1850  29.7500  29.1100  \n",
       "1  2006-12-12 00:00:00  29.4300  29.5200  29.6300  29.2200  \n",
       "2  2006-12-13 00:00:00  29.5500  29.6000  29.6000  29.3200  \n",
       "3  2006-12-14 00:00:00  30.0700  29.5450  30.0801  29.5200  \n",
       "4  2006-12-15 00:00:00  30.1900  30.1450  30.2300  30.0300  \n",
       "\n",
       "[5 rows x 25 columns]"
      ]
     },
     "execution_count": 558,
     "metadata": {},
     "output_type": "execute_result"
    }
   ],
   "source": [
    "DataFrame(timeline_wd, columns=header[0]*window_size)[:5]"
   ]
  },
  {
   "cell_type": "markdown",
   "metadata": {},
   "source": [
    "## Using a Support Vector Machine to calculate the Regression\n",
    "\n",
    "The score metric returns the coefficient of determination R² of the prediction.\n",
    "The coefficient R² is defined as (1 - u/v), where u is the regression sum of squares ((y_true - y_pred) * 2).sum() and v is the residual sum of squares ((y_true - y_true.mean()) * 2).sum(). Best possible score is 1.0 and it can be negative (because the model can be arbitrarily worse). A constant model that always predicts the expected value of y, disregarding the input features, would get a R² score of 0.0. [(according to sklearn)](http://scikit-learn.org/stable/modules/generated/sklearn.svm.SVR.html)"
   ]
  },
  {
   "cell_type": "code",
   "execution_count": 559,
   "metadata": {
    "collapsed": false,
    "scrolled": true
   },
   "outputs": [
    {
     "name": "stdout",
     "output_type": "stream",
     "text": [
      "Close Score: 0.976487817407\n",
      "Open Score: 0.925811086797\n",
      "High Score: 0.924469346851\n",
      "Low Score: 0.923365912092\n"
     ]
    }
   ],
   "source": [
    "X_train, X_test, y_train, y_test = train_test_split(timeline, labels,  test_size=0.33)\n",
    "\n",
    "#close\n",
    "regressor_close = SVR(C=10)\n",
    "regressor_close.fit(X_train, y_train[:,close_value])\n",
    "#open\n",
    "regressor_open = SVR()\n",
    "regressor_open.fit(X_train, y_train[:,open_value])\n",
    "#high\n",
    "regressor_high = SVR()\n",
    "regressor_high.fit(X_train, y_train[:,high_value])\n",
    "#low\n",
    "regressor_low = SVR()\n",
    "regressor_low.fit(X_train, y_train[:,low_value])\n",
    "\n",
    "score = regressor_close.score(X_test, y_test[:,close_value])\n",
    "print ('Close Score: ' + str(score))\n",
    "\n",
    "score = regressor_open.score(X_test, y_test[:,open_Value])\n",
    "print ('Open Score: ' + str(score))\n",
    "\n",
    "score = regressor_high.score(X_test, y_test[:,high_value])\n",
    "print ('High Score: ' + str(score))\n",
    "\n",
    "score = regressor_low.score(X_test, y_test[:,low_value])\n",
    "print ('Low Score: ' + str(score))"
   ]
  },
  {
   "cell_type": "markdown",
   "metadata": {},
   "source": [
    "## Visualize Prediction vs. Real Data\n",
    "\n",
    "Visualize the daily High value"
   ]
  },
  {
   "cell_type": "code",
   "execution_count": 599,
   "metadata": {
    "collapsed": false
   },
   "outputs": [
    {
     "data": {
      "image/png": "[encoded data removed]",
      "text/plain": [
       "<matplotlib.figure.Figure at 0x7feb08894208>"
      ]
     },
     "metadata": {},
     "output_type": "display_data"
    }
   ],
   "source": [
    "dates = matplotlib.dates.date2num(labels_wd[:,0])\n",
    "\n",
    "plt.figure(num=None, figsize=(12, 8), dpi=80)\n",
    "\n",
    "plt.subplot(221) \n",
    "plt.plot_date(dates, labels[:,close_value],'b-', c='blue', label='Real Data')\n",
    "plt.plot_date(dates, regressor_close.predict(timeline),'b-', c='green', alpha=0.4, label='Predicted Data')\n",
    "plt.title('Close') \n",
    "plt.legend()\n",
    "\n",
    "plt.subplot(222) \n",
    "plt.plot_date(dates, labels[:,open_value],'b-', c='blue', label='Real Data')\n",
    "plt.plot_date(dates, regressor_open.predict(timeline),'b-', c='green', alpha=0.4, label='Predicted Data')\n",
    "plt.legend()\n",
    "plt.title('Open') \n",
    "\n",
    "plt.subplot(223) \n",
    "plt.plot_date(dates, labels[:,high_value],'b-', c='blue', label='Real Data')\n",
    "plt.plot_date(dates, regressor_high.predict(timeline),'b-', c='green', alpha=0.4, label='Predicted Data')\n",
    "plt.legend()\n",
    "plt.title('High') \n",
    "\n",
    "plt.subplot(224) \n",
    "plt.plot_date(dates, labels[:,low_value],'b-', c='blue', label='Real Data')\n",
    "plt.plot_date(dates, regressor_low.predict(timeline),'b-', c='green', alpha=0.4, label='Predicted Data')\n",
    "plt.legend()\n",
    "plt.title('Low') \n",
    "\n",
    "plt.show()"
   ]
  },
  {
   "cell_type": "markdown",
   "metadata": {},
   "source": [
    "## Predict Future Day\n",
    "This is achieved by predicting following procedure:\n",
    "* Predict the next possible day given the last possible timeline element\n",
    "* Using the value of this prediciton to predict the next day\n",
    "* Repeat until the desired day is reached\n",
    "\n",
    "Assumptions are getting worse the farther they reach the future"
   ]
  },
  {
   "cell_type": "code",
   "execution_count": 600,
   "metadata": {
    "collapsed": false
   },
   "outputs": [],
   "source": [
    "def get_values_by_timeline(timeline_element):\n",
    "    close_ = regressor_close.predict(timeline_element)\n",
    "    open_ = regressor_open.predict(timeline_element)\n",
    "    high_ = regressor_high.predict(timeline_element)\n",
    "    low_ = regressor_low.predict(timeline_element)\n",
    "    \n",
    "    return [close_[0], open_[0], high_[0], low_[0]]"
   ]
  },
  {
   "cell_type": "code",
   "execution_count": 601,
   "metadata": {
    "collapsed": true
   },
   "outputs": [],
   "source": [
    "def get_previous_valid_date(last_day):\n",
    "    previous_day = last_day - dt.timedelta(days=1)\n",
    "    \"\"\" Skip Weekends where the stock exchange is closed \"\"\"\n",
    "    if (previous_day.weekday() == 6): previous_day = previous_day - dt.timedelta(days=2)\n",
    "    if (previous_day.weekday() == 5): previous_day = previous_day - dt.timedelta(days=1)\n",
    "        \n",
    "    return previous_day"
   ]
  },
  {
   "cell_type": "code",
   "execution_count": 602,
   "metadata": {
    "collapsed": true
   },
   "outputs": [],
   "source": [
    "def get_next_valid_date(last_day):\n",
    "    next_day = last_day + dt.timedelta(days=1)\n",
    "    \"\"\" Skip Weekends where the stock exchange is closed \"\"\"\n",
    "    if (next_day.weekday() == 6): next_day = next_day + dt.timedelta(days=1)\n",
    "    if (next_day.weekday() == 5): next_day = next_day + dt.timedelta(days=2)\n",
    "        \n",
    "    return next_day"
   ]
  },
  {
   "cell_type": "code",
   "execution_count": 612,
   "metadata": {
    "collapsed": false
   },
   "outputs": [],
   "source": [
    "def build_timeline_element(copy_timeline, last_index, last_day):\n",
    "    \"\"\" Search for the other timeline elements to build the required window size\"\"\"\n",
    "    for i in range(window_size):\n",
    "        last_index = last_index - i\n",
    "        last_day = get_previous_valid_date(last_day)\n",
    "        if i==0:\n",
    "            values = get_values_by_timeline(copy_timeline[last_index].reshape(1, -1))\n",
    "            values_wd = values[:] # None referenced copy\n",
    "            \n",
    "            timeline_element = values\n",
    "            values_wd.insert(0, last_day)\n",
    "            timeline_element_wd = values_wd\n",
    "        else:\n",
    "            values = get_values_by_timeline(copy_timeline[last_index].reshape(1, -1))\n",
    "            values_wd = values[:] # None referenced copy\n",
    "            \n",
    "            timeline_element = values + timeline_element\n",
    "            values_wd.insert(0, last_day)\n",
    "            timeline_element_wd = values_wd + timeline_element_wd\n",
    "    \n",
    "    \"\"\"Convert to numpy array \"\"\"   \n",
    "    timeline_element = np.array([timeline_element])\n",
    "    timeline_element_wd = np.array([timeline_element_wd])\n",
    "    \n",
    "    return timeline_element, timeline_element_wd"
   ]
  },
  {
   "cell_type": "code",
   "execution_count": 613,
   "metadata": {
    "collapsed": true
   },
   "outputs": [],
   "source": [
    "def build_last_label(copy_timeline, last_day):\n",
    "    label = get_values_by_timeline(copy_timeline[-1].reshape(1, -1))\n",
    "    label_wd = label[:] # None referenced copy\n",
    "\n",
    "    label_wd.insert(0, last_day)\n",
    "    \n",
    "    \"\"\" Convert to numpy array \"\"\"\n",
    "    label = np.array([label])\n",
    "    label_wd = np.array([label_wd])\n",
    "    \n",
    "    return label, label_wd"
   ]
  },
  {
   "cell_type": "code",
   "execution_count": 614,
   "metadata": {
    "collapsed": false
   },
   "outputs": [],
   "source": [
    "def predict_by_day(date):\n",
    "    last_day = labels_wd[-1][0]\n",
    "    date_delta = date-last_day\n",
    "    \n",
    "    copy_timeline = timeline[:]\n",
    "    new_timeline = np.empty((0,window_size*used_params)) \n",
    "    new_timeline_wd = np.empty((0,window_size*(used_params+1)))\n",
    "    new_labels = np.empty((0,used_params)) \n",
    "    new_labels_wd = np.empty((0,used_params+1))\n",
    "    \n",
    "    # Create a copies without a reference of the input data so that the orginal is not altered    \n",
    "    \"\"\" Iterate till the desired date is reached \"\"\"\n",
    "    while (last_day < date):\n",
    "        last_index = len(copy_timeline)-1\n",
    "        \"\"\" Generate timeline element and append the it to the timeline \"\"\" \n",
    "        timeline_element, timeline_element_wd = build_timeline_element(copy_timeline, last_index, last_day)\n",
    "        copy_timeline = np.append(copy_timeline, timeline_element, axis=0) \n",
    "        new_timeline = np.append(new_timeline, timeline_element, axis=0)\n",
    "        new_timeline_wd = np.append(new_timeline_wd, timeline_element_wd, axis=0)\n",
    "        \"\"\" Get next day \"\"\"\n",
    "        last_day = get_next_valid_date(last_day)\n",
    "        \"\"\" Create the corrosponding label to the timeline element \"\"\"       \n",
    "        label, label_wd = build_last_label(copy_timeline, last_day)\n",
    "        new_labels = np.append(new_labels, label, axis=0)\n",
    "        new_labels_wd = np.append(new_labels_wd, label_wd, axis=0)\n",
    "    \n",
    "    print ('Predicted ' + str(date_delta.days) + ' days')\n",
    "    result = get_values_by_timeline(new_timeline[-1].reshape(1, -1))\n",
    "    return result, new_labels_wd, new_timeline_wd, new_timeline, new_labels"
   ]
  },
  {
   "cell_type": "code",
   "execution_count": 621,
   "metadata": {
    "collapsed": false,
    "scrolled": true
   },
   "outputs": [
    {
     "name": "stdout",
     "output_type": "stream",
     "text": [
      "Search results for day 2017-03-11 00:00:00 into the future\n",
      "Predicted 100 days\n"
     ]
    },
    {
     "data": {
      "text/html": [
       "<div>\n",
       "<table border=\"1\" class=\"dataframe\">\n",
       "  <thead>\n",
       "    <tr style=\"text-align: right;\">\n",
       "      <th></th>\n",
       "      <th>date</th>\n",
       "      <th>close</th>\n",
       "      <th>open</th>\n",
       "      <th>high</th>\n",
       "      <th>low</th>\n",
       "    </tr>\n",
       "  </thead>\n",
       "  <tbody>\n",
       "    <tr>\n",
       "      <th>0</th>\n",
       "      <td>2017-03-13 00:00:00</td>\n",
       "      <td>37.833</td>\n",
       "      <td>37.7879</td>\n",
       "      <td>37.9909</td>\n",
       "      <td>37.5371</td>\n",
       "    </tr>\n",
       "  </tbody>\n",
       "</table>\n",
       "</div>"
      ],
      "text/plain": [
       "                  date   close     open     high      low\n",
       "0  2017-03-13 00:00:00  37.833  37.7879  37.9909  37.5371"
      ]
     },
     "execution_count": 621,
     "metadata": {},
     "output_type": "execute_result"
    }
   ],
   "source": [
    "search_date = labels_wd[-1][0]+ dt.timedelta(days=100)\n",
    "print ('Search results for day ' + str(search_date) + ' into the future')\n",
    "result, gen_lables_wd, gen_timeline_wd, gen_timeline, gen_lables = predict_by_day(search_date)\n",
    "DataFrame(gen_lables_wd[-1].reshape(1,5), columns=header)"
   ]
  },
  {
   "cell_type": "code",
   "execution_count": null,
   "metadata": {
    "collapsed": true
   },
   "outputs": [],
   "source": [
    ""
   ]
  }
 ],
 "metadata": {
  "anaconda-cloud": {},
  "kernelspec": {
   "display_name": "Python [conda env:term]",
   "language": "python",
   "name": "conda-env-term-py"
  },
  "language_info": {
   "codemirror_mode": {
    "name": "ipython",
    "version": 3.0
   },
   "file_extension": ".py",
   "mimetype": "text/x-python",
   "name": "python",
   "nbconvert_exporter": "python",
   "pygments_lexer": "ipython3",
   "version": "3.5.2"
  }
 },
 "nbformat": 4,
 "nbformat_minor": 0
}